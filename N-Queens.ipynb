{
 "cells": [
  {
   "cell_type": "markdown",
   "id": "eaf57698",
   "metadata": {},
   "source": [
    "## EAI Lab Assignment - 3 (Search Strategy)\n",
    "Shobhit Kumar - 19MCME16"
   ]
  },
  {
   "cell_type": "code",
   "execution_count": 2,
   "id": "9dddd056",
   "metadata": {},
   "outputs": [],
   "source": [
    "import numpy as np\n",
    "from queue import Queue\n",
    "import time"
   ]
  },
  {
   "cell_type": "markdown",
   "id": "c8b82a52",
   "metadata": {},
   "source": [
    "### Utility Functions"
   ]
  },
  {
   "cell_type": "code",
   "execution_count": 5,
   "id": "239000d2",
   "metadata": {},
   "outputs": [],
   "source": [
    "# Function to check if the move is valid or not\n",
    "def is_valid(board, indices, size):\n",
    "    rows = indices[0]\n",
    "    cols = indices[1]\n",
    "\n",
    "    col_sum = np.sum(board, axis=0)\n",
    "\n",
    "    # Column sum condition\n",
    "    if ((col_sum > 1).sum() > 0):\n",
    "        return False\n",
    "    \n",
    "    # Diagonal Condition\n",
    "\n",
    "    # Up-Left direction\n",
    "    i = rows - 1\n",
    "    j = cols - 1\n",
    "    up_left = True\n",
    "    while (i >= 0 and j >= 0):\n",
    "        if board[i, j] == 1:\n",
    "            up_left = False\n",
    "            break\n",
    "        i = i - 1\n",
    "        j = j - 1\n",
    "\n",
    "    # Down-Right direction\n",
    "    i = rows + 1\n",
    "    j = cols + 1\n",
    "    down_right = True\n",
    "    while (i < size and j < size):\n",
    "        if board[i, j] == 1:\n",
    "            down_right = False\n",
    "            break\n",
    "        i = i + 1\n",
    "        j = j + 1\n",
    "\n",
    "    # Up-Right direction\n",
    "    i = rows - 1\n",
    "    j = cols + 1\n",
    "    up_right = True\n",
    "    while (i >= 0 and j < size):\n",
    "        if board[i, j] == 1:\n",
    "            up_right = False\n",
    "            break\n",
    "        i = i - 1\n",
    "        j = j + 1\n",
    "\n",
    "    # Down-Left direction\n",
    "    i = rows + 1\n",
    "    j = cols - 1\n",
    "    down_left = True\n",
    "    while (i < size and j >= 0):\n",
    "        if board[i, j] == 1:\n",
    "            down_left = False\n",
    "            break\n",
    "        i = i + 1\n",
    "        j = j - 1\n",
    "\n",
    "    if (up_left and down_right and up_right and down_left):\n",
    "        return True\n",
    "    \n",
    "    return False\n",
    "\n",
    "# Function to check if the node is goal node or not  \n",
    "def is_goal(node, size):\n",
    "    board = node[0]\n",
    "    ones = np.ones(size)\n",
    "\n",
    "    row_sum = np.sum(board, axis=1)\n",
    "    col_sum = np.sum(board, axis=0)\n",
    "\n",
    "    comp_row = row_sum == ones\n",
    "    comp_col = col_sum == ones\n",
    "    if (comp_row.all() and comp_col.all()):\n",
    "        return True\n",
    "    return False\n"
   ]
  },
  {
   "cell_type": "markdown",
   "id": "546528ab",
   "metadata": {},
   "source": [
    "### Breadth First Search"
   ]
  },
  {
   "cell_type": "code",
   "execution_count": 3,
   "id": "28d7de74",
   "metadata": {},
   "outputs": [],
   "source": [
    "def breadth_first_search(size):\n",
    "    if (size <= 0):\n",
    "        print(\"Invalid Size!\")\n",
    "        return\n",
    "        \n",
    "    board = np.zeros((size, size))\n",
    "    indices = (None, None)\n",
    "    sol_found = False\n",
    "\n",
    "    frontier = Queue()\n",
    "    frontier.put((board, indices))\n",
    "\n",
    "    while not frontier.empty():\n",
    "        node = frontier.get()\n",
    "        # print(node[0])\n",
    "\n",
    "        # Checking if node is goal node\n",
    "        if (is_goal(node, size)):\n",
    "            sol_found = True\n",
    "            print(\"Found Solution\")\n",
    "            print(node[0])\n",
    "            return\n",
    "\n",
    "        # Expanding the tree\n",
    "        for col in range(size):\n",
    "            temp = node[0].copy()\n",
    "            row = node[1][0]\n",
    "\n",
    "            if (row == None):\n",
    "                temp[0, col] = 1\n",
    "                indices = (0, col)\n",
    "                frontier.put((temp, indices))\n",
    "            else:\n",
    "                temp[row + 1, col] = 1\n",
    "                indices = (row + 1, col)\n",
    "                \n",
    "                # Check if move is valid\n",
    "                if (is_valid(temp, indices, size)):\n",
    "                    frontier.put((temp, indices))\n",
    "    if not sol_found:\n",
    "        print(\"Solution not Found!\")"
   ]
  },
  {
   "cell_type": "code",
   "execution_count": 4,
   "id": "58d7094f",
   "metadata": {},
   "outputs": [
    {
     "name": "stdout",
     "output_type": "stream",
     "text": [
      "Found Solution\n",
      "[[0. 1. 0. 0.]\n",
      " [0. 0. 0. 1.]\n",
      " [1. 0. 0. 0.]\n",
      " [0. 0. 1. 0.]]\n",
      "Execution Time: 7.5717 ms\n"
     ]
    }
   ],
   "source": [
    "start = time.time()\n",
    "breadth_first_search(4)\n",
    "ex_time = time.time() - start\n",
    "print(f\"Execution Time: {ex_time*10**3:.4f} ms\")"
   ]
  },
  {
   "cell_type": "markdown",
   "id": "01783d44",
   "metadata": {},
   "source": [
    "### Depth First Search"
   ]
  },
  {
   "cell_type": "code",
   "execution_count": 64,
   "id": "f3476023",
   "metadata": {},
   "outputs": [],
   "source": [
    "def depth_first_search(size):\n",
    "    if (size <= 0):\n",
    "        print(\"Invalid Size!\")\n",
    "        return\n",
    "        \n",
    "    board = np.zeros((size, size))\n",
    "    indices = (None, None)\n",
    "    sol_found = False\n",
    "\n",
    "    frontier = []\n",
    "    frontier.append((board, indices))\n",
    "\n",
    "    while len(frontier) != 0:\n",
    "        node = frontier.pop()\n",
    "        # print(node[0])\n",
    "\n",
    "        # Checking if node is goal node\n",
    "        if (is_goal(node, size)):\n",
    "            sol_found = True\n",
    "            print(\"Found Solution\")\n",
    "            print(node[0])\n",
    "            return\n",
    "\n",
    "        # Expanding the tree\n",
    "        for col in range(size):\n",
    "            temp = node[0].copy()\n",
    "            row = node[1][0]\n",
    "\n",
    "            if (row == None):\n",
    "                temp[0, col] = 1\n",
    "                indices = (0, col)\n",
    "                frontier.append((temp, indices))\n",
    "            else:\n",
    "                temp[row + 1, col] = 1\n",
    "                indices = (row + 1, col)\n",
    "                \n",
    "                # Check if move is valid\n",
    "                if (is_valid(temp, indices, size)):\n",
    "                    frontier.append((temp, indices))\n",
    "    if not sol_found:\n",
    "        print(\"Solution not Found!\")"
   ]
  },
  {
   "cell_type": "code",
   "execution_count": 75,
   "id": "c72ee6e2",
   "metadata": {},
   "outputs": [
    {
     "name": "stdout",
     "output_type": "stream",
     "text": [
      "Found Solution\n",
      "[[0. 0. 1. 0.]\n",
      " [1. 0. 0. 0.]\n",
      " [0. 0. 0. 1.]\n",
      " [0. 1. 0. 0.]]\n",
      "Execution Time: 1.5843 ms\n"
     ]
    }
   ],
   "source": [
    "start = time.time()\n",
    "depth_first_search(4)\n",
    "ex_time = time.time() - start\n",
    "print(f\"Execution Time: {ex_time*10**3:.4f} ms\")"
   ]
  },
  {
   "cell_type": "markdown",
   "id": "9fd96103",
   "metadata": {},
   "source": [
    "### Depth Limit Search"
   ]
  },
  {
   "cell_type": "code",
   "execution_count": 67,
   "id": "78841ce1",
   "metadata": {},
   "outputs": [],
   "source": [
    "def depth_limit_search(size, limit):\n",
    "    if (size <= 0):\n",
    "        print(\"Invalid Size!\")\n",
    "        return False\n",
    "    if (limit < 0):\n",
    "        print(\"Invalid Limit!\")\n",
    "        return False\n",
    "\n",
    "    board = np.zeros((size, size))\n",
    "    indices = (None, None)\n",
    "    sol_found = False\n",
    "\n",
    "    frontier = []\n",
    "    frontier.append((board, indices))\n",
    "\n",
    "    while len(frontier) != 0:\n",
    "        node = frontier.pop()\n",
    "        # print(node[0])\n",
    "\n",
    "        # Checking if node is goal node\n",
    "        if (is_goal(node, size)):\n",
    "            sol_found = True\n",
    "            print(\"Found Solution\")\n",
    "            print(node[0])\n",
    "            return True\n",
    "\n",
    "        # Expanding the tree\n",
    "        for col in range(size):\n",
    "            temp = node[0].copy()\n",
    "            row = node[1][0]\n",
    "\n",
    "            if (row == None):\n",
    "                depth = 0\n",
    "                if (depth < limit):\n",
    "                    temp[0, col] = 1\n",
    "                    indices = (0, col)\n",
    "                    frontier.append((temp, indices))\n",
    "            else:\n",
    "                temp[row + 1, col] = 1\n",
    "                indices = (row + 1, col)\n",
    "                depth = row + 1\n",
    "                if (depth < limit):\n",
    "                    # Check if move is valid\n",
    "                    if (is_valid(temp, indices, size)):\n",
    "                        frontier.append((temp, indices))\n",
    "    if not sol_found:\n",
    "        print(\"Solution not Found!\")\n",
    "        return False"
   ]
  },
  {
   "cell_type": "code",
   "execution_count": 69,
   "id": "094b375c",
   "metadata": {},
   "outputs": [
    {
     "name": "stdout",
     "output_type": "stream",
     "text": [
      "Found Solution\n",
      "[[0. 0. 1. 0.]\n",
      " [1. 0. 0. 0.]\n",
      " [0. 0. 0. 1.]\n",
      " [0. 1. 0. 0.]]\n",
      "Execution Time: 1.5509 ms\n"
     ]
    }
   ],
   "source": [
    "start = time.time()\n",
    "depth_limit_search(4, 4)\n",
    "ex_time = time.time() - start\n",
    "print(f\"Execution Time: {ex_time*10**3:.4f} ms\")"
   ]
  },
  {
   "cell_type": "markdown",
   "id": "9c05228e",
   "metadata": {},
   "source": [
    "### Iterative Deepening Search"
   ]
  },
  {
   "cell_type": "code",
   "execution_count": 79,
   "id": "25784058",
   "metadata": {},
   "outputs": [],
   "source": [
    "def iterative_deepening_search(size):\n",
    "    if (size <= 3):\n",
    "        print(\"Cannot Find Solution!\")\n",
    "        return\n",
    "    depth = 0\n",
    "    sol_found = False\n",
    "\n",
    "    while not sol_found:\n",
    "        print(f\"Depth: {depth}\")\n",
    "        sol_found = depth_limit_search(size, depth)\n",
    "        depth = depth + 1"
   ]
  },
  {
   "cell_type": "code",
   "execution_count": 85,
   "id": "959b72ad",
   "metadata": {},
   "outputs": [
    {
     "name": "stdout",
     "output_type": "stream",
     "text": [
      "Depth: 0\n",
      "Solution not Found!\n",
      "Depth: 1\n",
      "Solution not Found!\n",
      "Depth: 2\n",
      "Solution not Found!\n",
      "Depth: 3\n",
      "Solution not Found!\n",
      "Depth: 4\n",
      "Found Solution\n",
      "[[0. 0. 1. 0.]\n",
      " [1. 0. 0. 0.]\n",
      " [0. 0. 0. 1.]\n",
      " [0. 1. 0. 0.]]\n",
      "Execution Time: 4.5750 ms\n"
     ]
    }
   ],
   "source": [
    "start = time.time()\n",
    "iterative_deepening_search(4)\n",
    "ex_time = time.time() - start\n",
    "print(f\"Execution Time: {ex_time*10**3:.4f} ms\")"
   ]
  },
  {
   "cell_type": "markdown",
   "id": "1413b3ca",
   "metadata": {},
   "source": [
    "### Uniform Cost Search"
   ]
  },
  {
   "cell_type": "code",
   "execution_count": 1,
   "id": "d69db473",
   "metadata": {},
   "outputs": [],
   "source": [
    "import sys\n",
    "class PriorityQueue:\n",
    "    def __init__(self):\n",
    "        self.queue = []\n",
    "\n",
    "    def empty(self):\n",
    "        return len(self.queue) == 0\n",
    "\n",
    "    def insert(self, node):\n",
    "        self.queue.append(node)\n",
    "\n",
    "    def pop(self):\n",
    "        try:\n",
    "            priority = sys.maxsize\n",
    "            p_index = 0\n",
    "            for i in range(len(self.queue)):\n",
    "                if self.queue[i][2] < priority:\n",
    "                    priority = self.queue[i][2]\n",
    "                    p_index = i\n",
    "            node = self.queue[p_index]\n",
    "            del self.queue[p_index]\n",
    "            return node\n",
    "        except IndexError:\n",
    "            print(\"Error: IndexError!\")\n",
    "            exit()\n",
    "\n",
    "    def emptyQueue(self):\n",
    "        while not self.empty():\n",
    "            self.pop()"
   ]
  },
  {
   "cell_type": "code",
   "execution_count": 87,
   "id": "fff0a7dd",
   "metadata": {},
   "outputs": [],
   "source": [
    "def uniform_cost_search(size):\n",
    "    if (size <= 0):\n",
    "        print(\"Invalid Size!\")\n",
    "        return\n",
    "        \n",
    "    board = np.zeros((size, size))\n",
    "    indices = (None, None)\n",
    "    cost = size\n",
    "    sol_found = False\n",
    "\n",
    "    frontier = PriorityQueue()\n",
    "    frontier.insert((board, indices, cost))\n",
    "\n",
    "    while not frontier.empty():\n",
    "        node = frontier.pop()\n",
    "        # print(node[0])\n",
    "\n",
    "        # Checking if node is goal node\n",
    "        if (is_goal(node, size)):\n",
    "            sol_found = True\n",
    "            print(\"Found Solution\")\n",
    "            # print(f'Cost: {node[2]}')\n",
    "            print(node[0])\n",
    "            # return\n",
    "            continue\n",
    "\n",
    "        # Expanding the tree\n",
    "        for col in range(size):\n",
    "            temp = node[0].copy()\n",
    "            row = node[1][0]\n",
    "            cost = node[2] - 1\n",
    "\n",
    "            if (row == None):\n",
    "                temp[0, col] = 1\n",
    "                indices = (0, col)\n",
    "                frontier.insert((temp, indices, cost))\n",
    "            else:\n",
    "                temp[row + 1, col] = 1\n",
    "                indices = (row + 1, col)\n",
    "                \n",
    "                # Check if move is valid\n",
    "                if (is_valid(temp, indices, size)):\n",
    "                    frontier.insert((temp, indices, cost))\n",
    "    if not sol_found:\n",
    "        print(\"Solution not Found!\")"
   ]
  },
  {
   "cell_type": "code",
   "execution_count": 89,
   "id": "268a37cc",
   "metadata": {},
   "outputs": [
    {
     "name": "stdout",
     "output_type": "stream",
     "text": [
      "Found Solution\n",
      "[[0. 1. 0. 0.]\n",
      " [0. 0. 0. 1.]\n",
      " [1. 0. 0. 0.]\n",
      " [0. 0. 1. 0.]]\n",
      "Found Solution\n",
      "[[0. 0. 1. 0.]\n",
      " [1. 0. 0. 0.]\n",
      " [0. 0. 0. 1.]\n",
      " [0. 1. 0. 0.]]\n",
      "Execution Time: 4.2818 ms\n"
     ]
    }
   ],
   "source": [
    "start = time.time()\n",
    "uniform_cost_search(4)\n",
    "ex_time = time.time() - start\n",
    "print(f\"Execution Time: {ex_time*10**3:.4f} ms\")"
   ]
  },
  {
   "cell_type": "markdown",
   "id": "675e30fe",
   "metadata": {},
   "source": [
    "### Greedy Best First Search"
   ]
  },
  {
   "cell_type": "code",
   "execution_count": 90,
   "id": "ca8356ee",
   "metadata": {},
   "outputs": [],
   "source": [
    "def greedy_bfs(size):\n",
    "    if (size <= 0):\n",
    "        print(\"Invalid Size!\")\n",
    "        return\n",
    "        \n",
    "    board = np.zeros((size, size))\n",
    "    indices = (None, None)\n",
    "    cost = size**size\n",
    "    sol_found = False\n",
    "\n",
    "    frontier = PriorityQueue()\n",
    "    frontier.insert((board, indices, cost))\n",
    "\n",
    "    while not frontier.empty():\n",
    "        node = frontier.pop()\n",
    "        # print(node[0])\n",
    "\n",
    "        # Checking if node is goal node\n",
    "        if (is_goal(node, size)):\n",
    "            sol_found = True\n",
    "            print(\"Found Solution\")\n",
    "            # print(f'Cost: {node[2]}')\n",
    "            print(node[0])\n",
    "            return\n",
    "\n",
    "        # Expanding the tree\n",
    "        for col in range(size):\n",
    "            temp = node[0].copy()\n",
    "            row = node[1][0]\n",
    "\n",
    "            if (row == None):\n",
    "                temp[0, col] = 1\n",
    "                indices = (0, col)\n",
    "                cost = size**(size-1)\n",
    "                frontier.insert((temp, indices, cost))\n",
    "            else:\n",
    "                temp[row + 1, col] = 1\n",
    "                indices = (row + 1, col)\n",
    "                cost = size**(size - row - 1)\n",
    "                \n",
    "                # Check if move is valid\n",
    "                if (is_valid(temp, indices, size)):\n",
    "                    frontier.insert((temp, indices, cost))\n",
    "    if not sol_found:\n",
    "        print(\"Solution not Found!\")"
   ]
  },
  {
   "cell_type": "code",
   "execution_count": 92,
   "id": "73a30006",
   "metadata": {},
   "outputs": [
    {
     "name": "stdout",
     "output_type": "stream",
     "text": [
      "Found Solution\n",
      "[[0. 1. 0. 0.]\n",
      " [0. 0. 0. 1.]\n",
      " [1. 0. 0. 0.]\n",
      " [0. 0. 1. 0.]]\n",
      "Execution Time: 2.4652 ms\n"
     ]
    }
   ],
   "source": [
    "start = time.time()\n",
    "greedy_bfs(4)\n",
    "ex_time = time.time() - start\n",
    "print(f\"Execution Time: {ex_time*10**3:.4f} ms\")"
   ]
  },
  {
   "cell_type": "markdown",
   "id": "36f4e353",
   "metadata": {},
   "source": [
    "#### A* Search"
   ]
  },
  {
   "cell_type": "code",
   "execution_count": 93,
   "id": "ddcb3f17",
   "metadata": {},
   "outputs": [],
   "source": [
    "def a_star(size):\n",
    "    if (size <= 0):\n",
    "        print(\"Invalid Size!\")\n",
    "        return\n",
    "        \n",
    "    board = np.zeros((size, size))\n",
    "    indices = (None, None)\n",
    "    gx = size\n",
    "    hx = size**size\n",
    "    cost = gx + hx\n",
    "    sol_found = False\n",
    "\n",
    "    frontier = PriorityQueue()\n",
    "    frontier.insert((board, indices, cost, gx))\n",
    "\n",
    "    while not frontier.empty():\n",
    "        node = frontier.pop()\n",
    "        # print(node[0])\n",
    "\n",
    "        # Checking if node is goal node\n",
    "        if (is_goal(node, size)):\n",
    "            sol_found = True\n",
    "            print(\"Found Solution\")\n",
    "            # print(f'Cost: {node[2]}')\n",
    "            print(node[0])\n",
    "            # return\n",
    "            continue\n",
    "\n",
    "        # Expanding the tree\n",
    "        for col in range(size):\n",
    "            temp = node[0].copy()\n",
    "            row = node[1][0]\n",
    "            gx = node[3] + (node[3] - 1)\n",
    "\n",
    "            if (row == None):\n",
    "                temp[0, col] = 1\n",
    "                indices = (0, col)\n",
    "                hx = size**(size-1)\n",
    "                cost = gx + hx\n",
    "                frontier.insert((temp, indices, cost, gx))\n",
    "            else:\n",
    "                temp[row + 1, col] = 1\n",
    "                indices = (row + 1, col)\n",
    "                hx = size**(size - row - 1)\n",
    "                cost = gx + hx\n",
    "\n",
    "                # Check if move is valid\n",
    "                if (is_valid(temp, indices, size)):\n",
    "                    frontier.insert((temp, indices, cost, gx))\n",
    "    if not sol_found:\n",
    "        print(\"Solution not Found!\")"
   ]
  },
  {
   "cell_type": "code",
   "execution_count": 95,
   "id": "a6cfa275",
   "metadata": {},
   "outputs": [
    {
     "name": "stdout",
     "output_type": "stream",
     "text": [
      "Found Solution\n",
      "[[0. 1. 0. 0.]\n",
      " [0. 0. 0. 1.]\n",
      " [1. 0. 0. 0.]\n",
      " [0. 0. 1. 0.]]\n",
      "Found Solution\n",
      "[[0. 0. 1. 0.]\n",
      " [1. 0. 0. 0.]\n",
      " [0. 0. 0. 1.]\n",
      " [0. 1. 0. 0.]]\n",
      "Execution Time: 2.7053 ms\n"
     ]
    }
   ],
   "source": [
    "start = time.time()\n",
    "a_star(4)\n",
    "ex_time = time.time() - start\n",
    "print(f\"Execution Time: {ex_time*10**3:.4f} ms\")"
   ]
  },
  {
   "cell_type": "markdown",
   "id": "42286a51",
   "metadata": {},
   "source": [
    "#### Hill Climbing Search"
   ]
  },
  {
   "cell_type": "code",
   "execution_count": 6,
   "id": "fba0bfb4",
   "metadata": {},
   "outputs": [],
   "source": [
    "def hill_climbing(size):\n",
    "    if (size <= 0):\n",
    "        print(\"Invalid Size!\")\n",
    "        return\n",
    "        \n",
    "    board = np.zeros((size, size))\n",
    "    indices = (None, None)\n",
    "    gx = size\n",
    "    hx = size**size\n",
    "    cost = gx + hx\n",
    "    sol_found = False\n",
    "\n",
    "    frontier = PriorityQueue()\n",
    "    frontier.insert((board, indices, cost, gx))\n",
    "\n",
    "    while not frontier.empty():\n",
    "        # Get the best node\n",
    "        node = frontier.pop()\n",
    "        # print(node[0])\n",
    "\n",
    "        # Empty the queue\n",
    "        frontier.emptyQueue()\n",
    "\n",
    "        # Checking if node is goal node\n",
    "        if (is_goal(node, size)):\n",
    "            sol_found = True\n",
    "            print(\"Found Solution\")\n",
    "            # print(f'Cost: {node[2]}')\n",
    "            print(node[0])\n",
    "            return\n",
    "\n",
    "        # Expanding the tree\n",
    "        for col in range(size):\n",
    "            temp = node[0].copy()\n",
    "            row = node[1][0]\n",
    "            gx = node[3] + (node[3] - 1)\n",
    "\n",
    "            if (row == None):\n",
    "                temp[0, col] = 1\n",
    "                indices = (0, col)\n",
    "                hx = size**(size-1)\n",
    "                cost = gx + hx\n",
    "                frontier.insert((temp, indices, cost, gx))\n",
    "            else:\n",
    "                temp[row + 1, col] = 1\n",
    "                indices = (row + 1, col)\n",
    "                hx = size**(size - row - 1)\n",
    "                cost = gx + hx\n",
    "\n",
    "                # Check if move is valid\n",
    "                if (is_valid(temp, indices, size)):\n",
    "                    frontier.insert((temp, indices, cost, gx))\n",
    "    if not sol_found:\n",
    "        print(\"Solution not Found!\")"
   ]
  },
  {
   "cell_type": "code",
   "execution_count": 7,
   "id": "dec4fbb4",
   "metadata": {},
   "outputs": [
    {
     "name": "stdout",
     "output_type": "stream",
     "text": [
      "Solution not Found!\n"
     ]
    }
   ],
   "source": [
    "hill_climbing(4)"
   ]
  },
  {
   "cell_type": "code",
   "execution_count": null,
   "id": "4fee6524",
   "metadata": {},
   "outputs": [],
   "source": []
  }
 ],
 "metadata": {
  "kernelspec": {
   "display_name": "Python 3.10.4 ('venv': venv)",
   "language": "python",
   "name": "python3"
  },
  "language_info": {
   "codemirror_mode": {
    "name": "ipython",
    "version": 3
   },
   "file_extension": ".py",
   "mimetype": "text/x-python",
   "name": "python",
   "nbconvert_exporter": "python",
   "pygments_lexer": "ipython3",
   "version": "3.10.6"
  },
  "vscode": {
   "interpreter": {
    "hash": "c895c97eb68f4d488aa312d422f309a8b3673dda1e284e2b49797133d1764b3e"
   }
  }
 },
 "nbformat": 4,
 "nbformat_minor": 5
}
